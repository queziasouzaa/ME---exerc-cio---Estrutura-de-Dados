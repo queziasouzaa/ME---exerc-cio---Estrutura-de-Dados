{
  "nbformat": 4,
  "nbformat_minor": 0,
  "metadata": {
    "colab": {
      "provenance": [],
      "authorship_tag": "ABX9TyOXnMllvQXRQEM6hODPEIY4",
      "include_colab_link": true
    },
    "kernelspec": {
      "name": "python3",
      "display_name": "Python 3"
    },
    "language_info": {
      "name": "python"
    }
  },
  "cells": [
    {
      "cell_type": "markdown",
      "metadata": {
        "id": "view-in-github",
        "colab_type": "text"
      },
      "source": [
        "<a href=\"https://colab.research.google.com/github/queziasouzaa/ME---exerc-cio---Estrutura-de-Dados/blob/main/estr_dados_av_30_10_24.ipynb\" target=\"_parent\"><img src=\"https://colab.research.google.com/assets/colab-badge.svg\" alt=\"Open In Colab\"/></a>"
      ]
    },
    {
      "cell_type": "code",
      "execution_count": 3,
      "metadata": {
        "colab": {
          "base_uri": "https://localhost:8080/"
        },
        "id": "pBpTRldjO9i1",
        "outputId": "c9b7cf63-2300-43f1-d421-7d193c053086"
      },
      "outputs": [
        {
          "output_type": "stream",
          "name": "stdout",
          "text": [
            "26\n",
            "31\n",
            "40\n",
            "41\n",
            "58\n",
            "59\n"
          ]
        }
      ],
      "source": [
        "with open('extra.txt', 'r') as file:\n",
        "    items = file.readlines()\n",
        "\n",
        "items = [int(item.strip()) for item in items]\n",
        "items.sort()\n",
        "\n",
        "for item in items:\n",
        "    print(item)\n",
        "\n",
        "with open('extra.txt', 'w') as file:\n",
        "    for item in items:\n",
        "        file.write(f\"{item}\\n\")"
      ]
    }
  ]
}